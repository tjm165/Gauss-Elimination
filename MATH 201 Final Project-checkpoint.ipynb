{
 "cells": [
  {
   "cell_type": "code",
   "execution_count": 138,
   "metadata": {},
   "outputs": [],
   "source": [
    "import numpy as np\n",
    "import copy "
   ]
  },
  {
   "cell_type": "markdown",
   "metadata": {},
   "source": [
    "# 1: Introduction\n",
    "This Jupyter Notebook will provide a top down explanation of each function that I created in order to perform Guass elimination and back substitution. Please reference my paper for a bottom up approach to why this procedure works.\n",
    "\n",
    "Written by Tommy Moawad, tjm165"
   ]
  },
  {
   "cell_type": "markdown",
   "metadata": {},
   "source": [
    "## 1.1: Down To The Basics\n",
    "Before getting started. We need to write a fundemental function. Row operation. This is one of the first things we learned in the class and is fundemental to this project.\n",
    "\n",
    "This function enables us to perform any operation of the form\n",
    "    r_i = c * r_i - k * r_j\n",
    "where c and k are constains\n",
    "\n",
    "For example, suppose we have \n",
    "[[1, 1, 1],\n",
    " [2, 2, 2],\n",
    " [3, 3, 3]]\n",
    " \n",
    "We can say r_1 = 100 * r_0 - 2 * r_1 such that we now have\n",
    "[[96, 96, 96],\n",
    " [2, 2, 2],\n",
    " [3, 3, 3]]"
   ]
  },
  {
   "cell_type": "code",
   "execution_count": 178,
   "metadata": {},
   "outputs": [],
   "source": [
    "\"\"\"\n",
    "General function to perform a row opperations of the form: r_i = c * r_i - k * r_j\n",
    "\n",
    "Args:\n",
    "    matrix: numpy matrix of dimensions m rows by n columns\n",
    "    c: The coefficient to multiply r_i by (optional by defualt is 1)\n",
    "    r_i: The index of the row we are applying the operation to\n",
    "    k: The coefficient to multiply r_j by (optional by defualt is 0)\n",
    "    r_j: The index of the row we are adding to r_i (optional by defualt is 0)\n",
    "    \n",
    "Returns:\n",
    "    The matrix with the applied row operation such that: r_i = c * r_i - k * r_j\n",
    "\"\"\"\n",
    "def row_operation(matrix, r_i, c = 1, r_j = 0, k = 0):\n",
    "    matrix2 = copy.deepcopy(matrix)\n",
    "    \n",
    "    matrix2[r_i] = c * matrix2[r_i] - k * matrix2[r_j]\n",
    "    return matrix2"
   ]
  },
  {
   "cell_type": "code",
   "execution_count": 165,
   "metadata": {},
   "outputs": [
    {
     "data": {
      "text/plain": [
       "matrix([[96, 96, 96],\n",
       "        [ 2,  2,  2],\n",
       "        [ 3,  3,  3]])"
      ]
     },
     "execution_count": 165,
     "metadata": {},
     "output_type": "execute_result"
    }
   ],
   "source": [
    "matrix = np.matrix([[1, 1, 1], [2, 2, 2], [3, 3, 3]])\n",
    "\n",
    "row_operation(matrix, 0, 100, 1, 2)"
   ]
  },
  {
   "cell_type": "markdown",
   "metadata": {},
   "source": [
    "# 2: Guass Elimination and Back Substitution"
   ]
  },
  {
   "cell_type": "markdown",
   "metadata": {},
   "source": [
    "There are four parts to Guass Elimination and Back Substitution:\n",
    "        1. Converted every element to floats. This was simply to avoid technical issues with integer rounding.\n",
    "        2. Augment A and b into [A|b]\n",
    "        3. Convert our augmented matrix into reduced row echelon form. This provides us with an upper triangular matrix\n",
    "        4. Now that we have an upper triangular matrix, we can easily perform back substitution.\n",
    "        \n",
    "After following these steps we can have the following function (although we still need to implement some of them!)"
   ]
  },
  {
   "cell_type": "code",
   "execution_count": 145,
   "metadata": {},
   "outputs": [],
   "source": [
    "\"\"\"\n",
    "Solves the equation Ax = b\n",
    "\n",
    "Args:\n",
    "    A: numpy matrix of dimensions m rows by n columns\n",
    "    b: numpy matrix of dimensions n rows by 1 column\n",
    "    \n",
    "Returns:\n",
    "    The x matrix such that Ax = b\n",
    "\"\"\"\n",
    "def guass_elimination_and_back_substitution(A, b):\n",
    "    # First, convert to floats. This helps avoid integer rounding\n",
    "    A = A.astype(float)\n",
    "    b = b.astype(float)\n",
    "    \n",
    "    augmented = np.hstack((A, b)) # creates [A|b]    \n",
    "    U = rref(augmented)\n",
    "    x = back_substitution(U)\n",
    "    return x"
   ]
  },
  {
   "cell_type": "markdown",
   "metadata": {},
   "source": [
    "# 3: Reduced Row Echelon Form\n",
    "\n",
    "The main reason we use reduced row echelon form is because it gives us an upper triangular matrix. This upper triangular matrix makes our life so much easier when performing back substitution. \n",
    "\n",
    "There are three steps to reduced row echelon form:\n",
    "    1. clone a copy of our original matrix. This helps us avoid any technical issues when if we decide to use this matrix elsewhere throughout the project\n",
    "    2. Convert the matrix into upper triangular form\n",
    "    3. Make all the diagonals equal to 1\n",
    "    \n",
    "After following these steps we can have the following function (although we still need to implement some of them!)"
   ]
  },
  {
   "cell_type": "code",
   "execution_count": 141,
   "metadata": {},
   "outputs": [],
   "source": [
    "\"\"\"\n",
    "Find the reduced row echelon form of the given matrix\n",
    "\"\"\"\n",
    "def rref(matrix):\n",
    "    clone = copy.deepcopy(matrix)\n",
    "    U = upper_triangular(clone)\n",
    "    return make_diagonals_1(U)"
   ]
  },
  {
   "cell_type": "markdown",
   "metadata": {},
   "source": [
    "## 3.1 Upper Triangular Matrix\n",
    "\n",
    "An upper triangular matrix is a matrix such that all elements below the diagonal are 0. This may seem intimidating but don't worry! Just take it column by column. For any column, we need a function that will make all elements zero underneath a specied element."
   ]
  },
  {
   "cell_type": "code",
   "execution_count": null,
   "metadata": {},
   "outputs": [],
   "source": [
    "\"\"\"\n",
    "Convert a matrix into it's upper triangular form\n",
    "\"\"\"\n",
    "def upper_triangular(matrix):\n",
    "    matrix2 = copy.deepcopy(matrix)\n",
    "    \n",
    "    for i in range(len(matrix.T)): # for each column\n",
    "        matrix2 = zeros_underneath(matrix2, i) #make everything 0 underneath the diagonal\n",
    "    return matrix2"
   ]
  },
  {
   "cell_type": "markdown",
   "metadata": {},
   "source": [
    "For any given column we can make all the elements zero underneath the ith element. We do this by...."
   ]
  },
  {
   "cell_type": "code",
   "execution_count": 197,
   "metadata": {},
   "outputs": [],
   "source": [
    "\"\"\"\n",
    "Creates a matrix such that all elements in column i that are underneath row i are 0\n",
    "\n",
    "Args:\n",
    "    matrix: numpy matrix of dimensions m rows by n columns\n",
    "    i: The index \n",
    "\n",
    "Returns:\n",
    "    A new array such that elements from matrix.getitem(i + 1, i) to matrix.getitem(m, i) = 0\n",
    "\"\"\"\n",
    "def zeros_underneath(matrix, i):\n",
    "    matrix2 = copy.deepcopy(matrix)\n",
    "    r_j = i #use the row above\n",
    "    \n",
    "    #while (r_i < len(matrix)):\n",
    "    for r_i in range(i + 1, len(matrix), 1): # for each row underneath row_i\n",
    "        print(r_i)\n",
    "        c = 1\n",
    "        k = matrix.item(r_i, i) / matrix.item(r_j, i)\n",
    "        matrix2 = row_operation(matrix2, r_i, c, r_j, k)\n",
    "        r_i += 1\n",
    "    print(\"   \")\n",
    "    return matrix2"
   ]
  },
  {
   "cell_type": "code",
   "execution_count": 198,
   "metadata": {},
   "outputs": [],
   "source": [
    "\"\"\"\n",
    "Obtain the smaller dimension of the matrix. Either \n",
    "\n",
    "Args:\n",
    "    matrix: numpy matrix of dimensions m rows by n columns\n",
    "    \n",
    "Returns:\n",
    "    The smaller dimension of the matrix\n",
    "\"\"\"\n",
    "def get_smaller_dimension(matrix):\n",
    "    if len(matrix) < len(matrix.T):\n",
    "        return len(matrix)\n",
    "    else:\n",
    "        return len(matrix.T)\n",
    "    \n",
    "\"\"\"\n",
    "Obtain an upper triangular matrix such that the diagonals are all 1\n",
    "\n",
    "Args:\n",
    "    U: numpy matrix upper triangular matrix\n",
    "    \n",
    "Returns:\n",
    "     An upper triangular matrix such that the diagonals are all 1\n",
    "\"\"\"\n",
    "def make_diagonals_1(U):\n",
    "    U = copy.deepcopy(U)\n",
    "    \n",
    "    for i in range(get_smaller_dimension(U)):\n",
    "        coef = 1 / U.item(i, i)\n",
    "        #U[i] = U[i] * coef\n",
    "        U = row_operation(U, i, coef, 0, 0)\n",
    "    return U\n",
    "\n",
    "\n",
    "\n",
    "def back_substitution(u):\n",
    "    A, B = np.hsplit(u, [np.size(u, 1) - 1])\n",
    "    x = [0] * len(A)    \n",
    "    \n",
    "    for i in range(len(x) - 1, -1, -1):\n",
    "        row = A[i].flatten()\n",
    "        #substitute. We want to get the row into the form var * element + constant\n",
    "        constant = 0\n",
    "        #generate the constant\n",
    "        for j in range (len(x) - 1, 0, -1):\n",
    "            #print(\"x[j] = x[\" + str(j) + \"] = \" + str(x[j]))\n",
    "            constant = constant + row.item(j) * x[j]\n",
    "            \n",
    "        print(\"x[\" + str(i) + \"] = \" + str(B[i]) + \" - \" + str(constant) + \" / \" + str(row.item(i)))\n",
    "        x[i] = (B[i] - constant) / row.item(i)\n",
    "        \n",
    "    return x"
   ]
  },
  {
   "cell_type": "code",
   "execution_count": 199,
   "metadata": {},
   "outputs": [
    {
     "name": "stdout",
     "output_type": "stream",
     "text": [
      "1\n",
      "2\n",
      "   \n",
      "2\n",
      "   \n",
      "   \n",
      "   \n",
      "x[2] = [[3.]] - 0.0 / 1.0\n",
      "x[1] = [[17.]] - [[15.]] / 1.0\n",
      "x[0] = [[0.5]] - [[-0.5]] / 1.0\n"
     ]
    },
    {
     "data": {
      "text/plain": [
       "[matrix([[1.]]), matrix([[2.]]), matrix([[3.]])]"
      ]
     },
     "execution_count": 199,
     "metadata": {},
     "output_type": "execute_result"
    }
   ],
   "source": [
    "A = np.matrix([[2, 1, -1], [3, 2, 1], [2, -1, 2]])\n",
    "b = np.matrix([[1], [10], [6]])\n",
    "\n",
    "guass_elimination_and_back_substitution(A, b)"
   ]
  },
  {
   "cell_type": "code",
   "execution_count": null,
   "metadata": {},
   "outputs": [],
   "source": []
  }
 ],
 "metadata": {
  "kernelspec": {
   "display_name": "Python 3",
   "language": "python",
   "name": "python3"
  },
  "language_info": {
   "codemirror_mode": {
    "name": "ipython",
    "version": 3
   },
   "file_extension": ".py",
   "mimetype": "text/x-python",
   "name": "python",
   "nbconvert_exporter": "python",
   "pygments_lexer": "ipython3",
   "version": "3.8.0"
  }
 },
 "nbformat": 4,
 "nbformat_minor": 2
}
