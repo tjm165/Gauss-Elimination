{
 "cells": [
  {
   "cell_type": "code",
   "execution_count": 100,
   "metadata": {},
   "outputs": [],
   "source": [
    "import numpy as np\n",
    "import copy \n",
    "    \n",
    "\n",
    "#returns either the lesser of the number of columns or the number of rows \n",
    "def get_smaller_dimension(matrix):\n",
    "    if len(matrix) < len(matrix.T):\n",
    "        return len(matrix)\n",
    "    else:\n",
    "        return len(matrix.T)\n",
    "    \n",
    "def elimination(A, B):\n",
    "    A = A.astype(float)\n",
    "    B = B.astype(float)\n",
    "    augmented = np.hstack((A, B)) #combines into [A|B]\n",
    "    return rref(augmented)\n",
    "\n",
    "def rref(matrix):\n",
    "    clone = copy.deepcopy(matrix)\n",
    "    U = upper_triangular(clone)\n",
    "    return make_diagonals_1(U)\n",
    "\n",
    "def upper_triangular(matrix):\n",
    "    matrix2 = copy.deepcopy(matrix)\n",
    "    \n",
    "    for i in range(len(matrix.T)): # for each column\n",
    "        matrix2 = __upper_triangular_helper(matrix2, i)\n",
    "    return matrix2\n",
    "\n",
    "# make the ith column have all 0s starting at the ith + 1 row\n",
    "def __upper_triangular_helper(matrix, column_index):\n",
    "    matrix2 = copy.deepcopy(matrix)\n",
    "    index_of_row_changing = 1 + column_index\n",
    "    index_of_row_using = column_index\n",
    "    \n",
    "    while (index_of_row_changing < len(matrix)):\n",
    "        coef_of_changing = 1 #probably going to be a problemmmmmmmmmmmmmmmmmmmmmmmmmmmmmmmmmmmmmmmmm\n",
    "        coef_of_using = matrix.item(index_of_row_changing, column_index) / matrix.item(index_of_row_using, column_index)\n",
    "        matrix2 = row_operation(matrix2, coef_of_changing, index_of_row_changing, coef_of_using, index_of_row_using)\n",
    "        index_of_row_changing += 1\n",
    "        # print(coef_of_using)\n",
    "        print(matrix2)\n",
    "    return matrix2\n",
    "        \n",
    "#todo find a better name for this\n",
    "def make_diagonals_1(U):\n",
    "    U = copy.deepcopy(U)\n",
    "    \n",
    "    for i in range(get_smaller_dimension(U)):\n",
    "        constant = 1 / U.item(i, i)\n",
    "        U[i] = U[i] * constant\n",
    "    return U\n",
    "\n",
    "def row_operation(matrix, coef_of_changing, index_of_row_changing, coef_of_using, index_of_row_using):\n",
    "    matrix2 = copy.deepcopy(matrix)\n",
    "    \n",
    "    matrix2[index_of_row_changing] = coef_of_changing * matrix2[index_of_row_changing] - coef_of_using * matrix2[index_of_row_using]\n",
    "    return matrix2"
   ]
  },
  {
   "cell_type": "code",
   "execution_count": 97,
   "metadata": {},
   "outputs": [],
   "source": [
    "def back_substitution(u):\n",
    "    A, B = np.hsplit(u, [np.size(u, 1) - 1])\n",
    "    x = [0] * len(A)    \n",
    "    \n",
    "    for i in range(len(x) - 1, -1, -1):\n",
    "        row = A[i].flatten()\n",
    "        #substitute. We want to get the row into the form var * element + constant\n",
    "        constant = 0\n",
    "        #generate the constant\n",
    "        for j in range (len(x) - 1, 0, -1):\n",
    "            #print(\"x[j] = x[\" + str(j) + \"] = \" + str(x[j]))\n",
    "            constant = constant + row.item(j) * x[j]\n",
    "            \n",
    "        print(\"x[\" + str(i) + \"] = \" + str(B[i]) + \" - \" + str(constant) + \" / \" + str(row.item(i)))\n",
    "        x[i] = (B[i] - constant) / row.item(i)\n",
    "        \n",
    "    return x"
   ]
  },
  {
   "cell_type": "code",
   "execution_count": 98,
   "metadata": {},
   "outputs": [
    {
     "name": "stdout",
     "output_type": "stream",
     "text": [
      "[[ 2.   1.  -1.   1. ]\n",
      " [ 0.   0.5  2.5  8.5]\n",
      " [ 2.  -1.   2.   6. ]]\n",
      "[[ 2.   1.  -1.   1. ]\n",
      " [ 0.   0.5  2.5  8.5]\n",
      " [ 0.  -2.   3.   5. ]]\n",
      "[[ 2.   1.  -1.   1. ]\n",
      " [ 0.   0.5  2.5  8.5]\n",
      " [ 0.   0.  13.  39. ]]\n"
     ]
    },
    {
     "data": {
      "text/plain": [
       "matrix([[ 1. ,  0.5, -0.5,  0.5],\n",
       "        [ 0. ,  1. ,  5. , 17. ],\n",
       "        [ 0. ,  0. ,  1. ,  3. ]])"
      ]
     },
     "execution_count": 98,
     "metadata": {},
     "output_type": "execute_result"
    }
   ],
   "source": [
    "A = np.matrix([[2, 1, -1], [3, 2, 1], [2, -1, 2]])\n",
    "B = np.matrix([[1], [10], [6]])\n",
    "\n",
    "elimination(A, B)"
   ]
  },
  {
   "cell_type": "code",
   "execution_count": 93,
   "metadata": {},
   "outputs": [
    {
     "name": "stdout",
     "output_type": "stream",
     "text": [
      "[[ 2.   1.  -1.   1. ]\n",
      " [ 0.   0.5  2.5  8.5]\n",
      " [ 2.  -1.   2.   6. ]]\n",
      "[[ 2.   1.  -1.   1. ]\n",
      " [ 0.   0.5  2.5  8.5]\n",
      " [ 0.  -2.   3.   5. ]]\n",
      "[[ 2.   1.  -1.   1. ]\n",
      " [ 0.   0.5  2.5  8.5]\n",
      " [ 0.   0.  13.  39. ]]\n",
      "x[2] = [[39.]] - 0.0 / 13.0\n",
      "x[1] = [[8.5]] - [[7.5]] / 0.5\n",
      "x[0] = [[1.]] - [[-1.]] / 2.0\n"
     ]
    },
    {
     "data": {
      "text/plain": [
       "[matrix([[1.]]), matrix([[2.]]), matrix([[3.]])]"
      ]
     },
     "execution_count": 93,
     "metadata": {},
     "output_type": "execute_result"
    }
   ],
   "source": [
    "back_substitution(elimination(A, B))"
   ]
  },
  {
   "cell_type": "code",
   "execution_count": null,
   "metadata": {},
   "outputs": [],
   "source": []
  }
 ],
 "metadata": {
  "kernelspec": {
   "display_name": "Python 3",
   "language": "python",
   "name": "python3"
  },
  "language_info": {
   "codemirror_mode": {
    "name": "ipython",
    "version": 3
   },
   "file_extension": ".py",
   "mimetype": "text/x-python",
   "name": "python",
   "nbconvert_exporter": "python",
   "pygments_lexer": "ipython3",
   "version": "3.8.0"
  }
 },
 "nbformat": 4,
 "nbformat_minor": 2
}
