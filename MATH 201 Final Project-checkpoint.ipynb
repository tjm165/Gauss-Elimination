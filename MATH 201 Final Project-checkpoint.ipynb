{
 "cells": [
  {
   "cell_type": "code",
   "execution_count": null,
   "metadata": {},
   "outputs": [],
   "source": [
    "import numpy as np\n",
    "import copy "
   ]
  },
  {
   "cell_type": "markdown",
   "metadata": {},
   "source": [
    "# Part 1: Introduction\n",
    "This Jupyter Notebook will provide a top down explanation of each function that I created in order to perform Guass elimination and back substitution. Please reference my paper for a bottom up approach to why this procedure works.\n",
    "\n",
    "Written by Tommy Moawad, tjm165"
   ]
  },
  {
   "cell_type": "markdown",
   "metadata": {},
   "source": [
    "There are four parts to Guass Elimination and Back Substitution:\n",
    "        1. I converted everything to floats. This was simply to avoid technical issues with integer rounding.\n",
    "        2. Augment A and b into [A|b]\n",
    "        3. Convert our augmented matrix into reduced row echelon form. This provides us with an upper triangular matrix\n",
    "        4. Now that we have an upper triangular matrix, we can easily perform back substitution.\n",
    "        \n",
    "After following these steps we can have the following function"
   ]
  },
  {
   "cell_type": "code",
   "execution_count": 104,
   "metadata": {},
   "outputs": [],
   "source": [
    "\"\"\"\n",
    "Solves the equation Ax = b\n",
    "\n",
    "Args:\n",
    "    A: numpy matrix of dimensions m rows by n columns\n",
    "    b: numpy matrix of dimensions n rows by 1 column\n",
    "    \n",
    "Returns:\n",
    "    The x matrix such that Ax = b\n",
    "\"\"\"\n",
    "def guass_elimination_and_back_substitution(A, b):\n",
    "    # First, convert to floats. This helps avoid integer rounding\n",
    "    A = A.astype(float)\n",
    "    B = B.astype(float)\n",
    "    \n",
    "    augmented = np.hstack((A, b)) # creates [A|b]    \n",
    "    U = rref(augmented)\n",
    "    x = back_substitution(U)\n",
    "    return x"
   ]
  },
  {
   "cell_type": "markdown",
   "metadata": {},
   "source": [
    "## Part 1. Reduced Row Echelon Form\n",
    "\n",
    "The main reason we use reduced row echelon form is because it gives us an upper triangular matrix. This upper triangular matrix makes our life so much easier when performing back substitution. \n",
    "\n",
    "There are three steps to reduced row echelon form:\n",
    "    1. clone a copy of our original matrix. This helps us avoid any technical issues when if we decide to use this matrix elsewhere throughout the project\n",
    "    2. Convert the matrix into upper triangular form\n",
    "    3. Make all the diagonals equal to 1"
   ]
  },
  {
   "cell_type": "code",
   "execution_count": 102,
   "metadata": {},
   "outputs": [],
   "source": [
    "\"\"\"\n",
    "Find the reduced row echelon form of the given matrix\n",
    "\"\"\"\n",
    "def rref(matrix):\n",
    "    clone = copy.deepcopy(matrix)\n",
    "    U = upper_triangular(clone)\n",
    "    return make_diagonals_1(U)\n",
    "    \n",
    "    \n",
    "\n",
    "    \n",
    "\"\"\"\n",
    "Obtain the smaller dimension of the matrix. Either \n",
    "\n",
    "Args:\n",
    "    matrix: numpy matrix of dimensions m rows by n columns\n",
    "    \n",
    "Returns:\n",
    "    The smaller dimension of the matrix\n",
    "\"\"\"\n",
    "def get_smaller_dimension(matrix):\n",
    "    if len(matrix) < len(matrix.T):\n",
    "        return len(matrix)\n",
    "    else:\n",
    "        return len(matrix.T)\n",
    "\n",
    "\n",
    "\n",
    "\"\"\"\n",
    "Convert a matrix into it's upper triangular form\n",
    "\"\"\"\n",
    "def upper_triangular(matrix):\n",
    "    matrix2 = copy.deepcopy(matrix)\n",
    "    \n",
    "    for i in range(len(matrix.T)): # for each column\n",
    "        matrix2 = zeros_underneath(matrix2, i) #make everything 0 underneath the diagonal\n",
    "    return matrix2\n",
    "\n",
    "\"\"\"\n",
    "Creates a matrix such that all elements in column i that are underneath row i are 0\n",
    "\n",
    "Args:\n",
    "    matrix: numpy matrix of dimensions m rows by n columns\n",
    "    i: The index\n",
    "\n",
    "Returns:\n",
    "    A new array such that elements from matrix.getitem(i + 1, i) to matrix.getitem(m, i) = 0\n",
    "\"\"\"\n",
    "def zeros_underneath(matrix, i):\n",
    "    matrix2 = copy.deepcopy(matrix)\n",
    "    index_of_row_changing = i + 1\n",
    "    index_of_row_using = i\n",
    "    \n",
    "    while (index_of_row_changing < len(matrix)):\n",
    "        coef_of_changing = 1 #probably going to be a problemmmmmmmmmmmmmmmmmmmmmmmmmmmmmmmmmmmmmmmmm\n",
    "        coef_of_using = matrix.item(index_of_row_changing, i) / matrix.item(index_of_row_using, i)\n",
    "        matrix2 = row_operation(matrix2, coef_of_changing, index_of_row_changing, coef_of_using, index_of_row_using)\n",
    "        index_of_row_changing += 1\n",
    "        print(matrix2)\n",
    "    return matrix2\n",
    "\n",
    "\"\"\"\n",
    "General function to perform a row opperation. You can multiply a row and you can add another row to it\n",
    "\n",
    "Args:\n",
    "    matrix: numpy matrix of dimensions m rows by n columns\n",
    "    index_of_r: The index of the row we are applying the operation to\n",
    "    coef_of_r: The coefficient to multiply the r by (optional by defualt is 1)\n",
    "    index_of_using: The index of the row we are adding to r (optional by defualt is 0)\n",
    "    coef_of_using: The coefficient to multiply the row we are adding by (optional by defualt is 0)\n",
    "    \n",
    "Returns:\n",
    "    The matrix with the applied row operation\n",
    "\"\"\"\n",
    "def row_operation(matrix, coef_of_r = 1, index_of_r, coef_of_using = 0, index_of_row_using = 0):\n",
    "    matrix2 = copy.deepcopy(matrix)\n",
    "    \n",
    "    matrix2[index_of_r] = coef_of_r * matrix2[index_of_r] - coef_of_using * matrix2[index_of_row_using]\n",
    "    return matrix2\n",
    "\n",
    "\"\"\"\n",
    "Obtain an upper triangular matrix such that the diagonals are all 1\n",
    "\n",
    "Args:\n",
    "    U: numpy matrix upper triangular matrix\n",
    "    \n",
    "Returns:\n",
    "     An upper triangular matrix such that the diagonals are all 1\n",
    "\"\"\"\n",
    "def make_diagonals_1(U):\n",
    "    U = copy.deepcopy(U)\n",
    "    \n",
    "    for i in range(get_smaller_dimension(U)):\n",
    "        coef = 1 / U.item(i, i)\n",
    "        #U[i] = U[i] * coef\n",
    "        U = row_operation(U, coef, i, 0, 0)\n",
    "    return U"
   ]
  },
  {
   "cell_type": "code",
   "execution_count": 97,
   "metadata": {},
   "outputs": [],
   "source": [
    "def back_substitution(u):\n",
    "    A, B = np.hsplit(u, [np.size(u, 1) - 1])\n",
    "    x = [0] * len(A)    \n",
    "    \n",
    "    for i in range(len(x) - 1, -1, -1):\n",
    "        row = A[i].flatten()\n",
    "        #substitute. We want to get the row into the form var * element + constant\n",
    "        constant = 0\n",
    "        #generate the constant\n",
    "        for j in range (len(x) - 1, 0, -1):\n",
    "            #print(\"x[j] = x[\" + str(j) + \"] = \" + str(x[j]))\n",
    "            constant = constant + row.item(j) * x[j]\n",
    "            \n",
    "        print(\"x[\" + str(i) + \"] = \" + str(B[i]) + \" - \" + str(constant) + \" / \" + str(row.item(i)))\n",
    "        x[i] = (B[i] - constant) / row.item(i)\n",
    "        \n",
    "    return x"
   ]
  },
  {
   "cell_type": "code",
   "execution_count": 98,
   "metadata": {},
   "outputs": [
    {
     "name": "stdout",
     "output_type": "stream",
     "text": [
      "[[ 2.   1.  -1.   1. ]\n",
      " [ 0.   0.5  2.5  8.5]\n",
      " [ 2.  -1.   2.   6. ]]\n",
      "[[ 2.   1.  -1.   1. ]\n",
      " [ 0.   0.5  2.5  8.5]\n",
      " [ 0.  -2.   3.   5. ]]\n",
      "[[ 2.   1.  -1.   1. ]\n",
      " [ 0.   0.5  2.5  8.5]\n",
      " [ 0.   0.  13.  39. ]]\n"
     ]
    },
    {
     "data": {
      "text/plain": [
       "matrix([[ 1. ,  0.5, -0.5,  0.5],\n",
       "        [ 0. ,  1. ,  5. , 17. ],\n",
       "        [ 0. ,  0. ,  1. ,  3. ]])"
      ]
     },
     "execution_count": 98,
     "metadata": {},
     "output_type": "execute_result"
    }
   ],
   "source": [
    "A = np.matrix([[2, 1, -1], [3, 2, 1], [2, -1, 2]])\n",
    "B = np.matrix([[1], [10], [6]])\n",
    "\n",
    "elimination(A, B)"
   ]
  },
  {
   "cell_type": "code",
   "execution_count": 93,
   "metadata": {},
   "outputs": [
    {
     "name": "stdout",
     "output_type": "stream",
     "text": [
      "[[ 2.   1.  -1.   1. ]\n",
      " [ 0.   0.5  2.5  8.5]\n",
      " [ 2.  -1.   2.   6. ]]\n",
      "[[ 2.   1.  -1.   1. ]\n",
      " [ 0.   0.5  2.5  8.5]\n",
      " [ 0.  -2.   3.   5. ]]\n",
      "[[ 2.   1.  -1.   1. ]\n",
      " [ 0.   0.5  2.5  8.5]\n",
      " [ 0.   0.  13.  39. ]]\n",
      "x[2] = [[39.]] - 0.0 / 13.0\n",
      "x[1] = [[8.5]] - [[7.5]] / 0.5\n",
      "x[0] = [[1.]] - [[-1.]] / 2.0\n"
     ]
    },
    {
     "data": {
      "text/plain": [
       "[matrix([[1.]]), matrix([[2.]]), matrix([[3.]])]"
      ]
     },
     "execution_count": 93,
     "metadata": {},
     "output_type": "execute_result"
    }
   ],
   "source": [
    "back_substitution(elimination(A, B))"
   ]
  },
  {
   "cell_type": "code",
   "execution_count": null,
   "metadata": {},
   "outputs": [],
   "source": []
  }
 ],
 "metadata": {
  "kernelspec": {
   "display_name": "Python 3",
   "language": "python",
   "name": "python3"
  },
  "language_info": {
   "codemirror_mode": {
    "name": "ipython",
    "version": 3
   },
   "file_extension": ".py",
   "mimetype": "text/x-python",
   "name": "python",
   "nbconvert_exporter": "python",
   "pygments_lexer": "ipython3",
   "version": "3.8.0"
  }
 },
 "nbformat": 4,
 "nbformat_minor": 2
}
