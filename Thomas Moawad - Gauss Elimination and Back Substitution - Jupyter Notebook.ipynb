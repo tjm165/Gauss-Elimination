{
 "cells": [
  {
   "cell_type": "code",
   "execution_count": 2,
   "metadata": {},
   "outputs": [],
   "source": [
    "import numpy as np\n",
    "import copy "
   ]
  },
  {
   "cell_type": "markdown",
   "metadata": {},
   "source": [
    "# 1. Introduction\n",
    "This Jupyter Notebook will provide a an explanation of the functions necessary to complete Gauss elimination and back substitution. It is also important to understand LU factorization. After explaining these procedures, this document will provide examples of how to solve systems of equations by using LU factorization, Gauss elimination, and back substitution.\n",
    "\n",
    "Written by Thomas Moawad"
   ]
  },
  {
   "cell_type": "markdown",
   "metadata": {},
   "source": [
    "# 1.1 Common Functions"
   ]
  },
  {
   "cell_type": "markdown",
   "metadata": {},
   "source": [
    "### 1.1.1 Row Replacement\n",
    "Row replacements help us to replace r_i with\n",
    "\n",
    "This function enables us to perform any operation of the form\n",
    "    r_i_new = c * r_i - k * r_j\n",
    "where c and k are constains\n",
    "\n",
    "For example, suppose we have\n",
    "\n",
    "[[1, 1, 1],\n",
    "\n",
    " [2, 2, 2],\n",
    " \n",
    " [3, 3, 3]]\n",
    " \n",
    "We can say r_1 = 100 * r_0 - 2 * r_1 such that we now have\n",
    "\n",
    "[96, 96, 96],\n",
    "\n",
    " [2, 2, 2],\n",
    " \n",
    " [3, 3, 3]"
   ]
  },
  {
   "cell_type": "code",
   "execution_count": 3,
   "metadata": {},
   "outputs": [],
   "source": [
    "\"\"\"\n",
    "General function to perform a row replacement of the form: r_i = c * r_i - k * r_j\n",
    "\n",
    "Args:\n",
    "    matrix: numpy matrix of dimensions m rows by n columns\n",
    "    c: The coefficient to multiply r_i by (optional by defualt is 1)\n",
    "    r_i: The index of the row we are applying the operation to\n",
    "    k: The coefficient to multiply r_j by (optional by defualt is 0)\n",
    "    r_j: The index of the row we are adding to r_i (optional by defualt is 0)\n",
    "    \n",
    "Returns:\n",
    "    The matrix with the applied row replacement such that: r_i = c * r_i - k * r_j\n",
    "\"\"\"\n",
    "def row_replacement(matrix, r_i, c = 1, r_j = 0, k = 0):\n",
    "    matrix2 = copy.deepcopy(matrix)\n",
    "    \n",
    "    matrix2[r_i] = c * matrix2[r_i] - k * matrix2[r_j]\n",
    "    return matrix2"
   ]
  },
  {
   "cell_type": "markdown",
   "metadata": {},
   "source": [
    "#### Example of Row Replacement"
   ]
  },
  {
   "cell_type": "code",
   "execution_count": 4,
   "metadata": {},
   "outputs": [
    {
     "data": {
      "text/plain": [
       "matrix([[96, 96, 96],\n",
       "        [ 2,  2,  2],\n",
       "        [ 3,  3,  3]])"
      ]
     },
     "execution_count": 4,
     "metadata": {},
     "output_type": "execute_result"
    }
   ],
   "source": [
    "matrix = np.matrix([[1, 1, 1], \n",
    "                    [2, 2, 2], \n",
    "                    [3, 3, 3]])\n",
    "\n",
    "row_replacement(matrix, 0, 100, 1, 2)"
   ]
  },
  {
   "cell_type": "markdown",
   "metadata": {},
   "source": [
    "### 1.2 Row Swap\n",
    "Another basic operation we learned is row swapping. This is just as essential to Gauss Elimination as Row Operation is. "
   ]
  },
  {
   "cell_type": "code",
   "execution_count": 5,
   "metadata": {},
   "outputs": [],
   "source": [
    "\"\"\"\n",
    "General function to perform a row swaps\n",
    "\n",
    "Args:\n",
    "    matrix: numpy matrix of dimensions m rows by n columns\n",
    "    r_i: The index of the row to swap with r_j\n",
    "    r_j: The index of the row to swap with r_i\n",
    "    \n",
    "Returns:\n",
    "    The matrix with the corresponding row swap\n",
    "\"\"\"\n",
    "def row_swap(matrix, r_i, r_j):\n",
    "    matrix2 = copy.deepcopy(matrix)\n",
    "    matrix2[[r_i, r_j]] = matrix[[r_j, r_i]]\n",
    "    return matrix2"
   ]
  },
  {
   "cell_type": "markdown",
   "metadata": {},
   "source": [
    "#### Example Row Swap"
   ]
  },
  {
   "cell_type": "code",
   "execution_count": 6,
   "metadata": {},
   "outputs": [
    {
     "data": {
      "text/plain": [
       "array([[9, 9, 3],\n",
       "       [5, 7, 0],\n",
       "       [4, 3, 1]])"
      ]
     },
     "execution_count": 6,
     "metadata": {},
     "output_type": "execute_result"
    }
   ],
   "source": [
    "matrix = np.array([[4,3,1], \n",
    "                   [5,7,0], \n",
    "                   [9,9,3]])\n",
    "row_swap(matrix, 0, 2)"
   ]
  },
  {
   "cell_type": "markdown",
   "metadata": {},
   "source": [
    "### 1.3 Get Smaller Dimension\n",
    "Another basic function we need is a way to get the smaller dimension. This is just an if-else statement but it will be useful later on.\n",
    "\n",
    "Given a matrix with dimensions m by n, if m is smaller then return m, else return n"
   ]
  },
  {
   "cell_type": "code",
   "execution_count": 7,
   "metadata": {},
   "outputs": [],
   "source": [
    "\"\"\"\n",
    "Obtain the smaller dimension of the matrix. Either \n",
    "\n",
    "Args:\n",
    "    matrix: numpy matrix of dimensions m rows by n columns\n",
    "    \n",
    "Returns:\n",
    "    The smaller dimension of the matrix\n",
    "\"\"\"\n",
    "def get_smaller_dimension(matrix):\n",
    "    if len(matrix) < len(matrix.T):\n",
    "        return len(matrix)\n",
    "    else:\n",
    "        return len(matrix.T)"
   ]
  },
  {
   "cell_type": "markdown",
   "metadata": {},
   "source": [
    "#### Examples of Getting the Smaller Dimension"
   ]
  },
  {
   "cell_type": "code",
   "execution_count": 8,
   "metadata": {},
   "outputs": [
    {
     "data": {
      "text/plain": [
       "2"
      ]
     },
     "execution_count": 8,
     "metadata": {},
     "output_type": "execute_result"
    }
   ],
   "source": [
    "# 2 by 3 matrix. m is smaller\n",
    "matrix = np.matrix([[1, 1, 1], [2, 2, 2]])\n",
    "get_smaller_dimension(matrix)"
   ]
  },
  {
   "cell_type": "code",
   "execution_count": 9,
   "metadata": {},
   "outputs": [
    {
     "data": {
      "text/plain": [
       "3"
      ]
     },
     "execution_count": 9,
     "metadata": {},
     "output_type": "execute_result"
    }
   ],
   "source": [
    "# 4 by 3 matrix. n is smaller\n",
    "matrix = np.matrix([[1, 1, 1], \n",
    "                    [2, 2, 2], \n",
    "                    [3, 3, 3], \n",
    "                    [4, 4, 4]])\n",
    "get_smaller_dimension(matrix)"
   ]
  },
  {
   "cell_type": "markdown",
   "metadata": {},
   "source": [
    "### 1.4 Expanded Dot Product\n",
    "Will write the dot product in expanded form as a string. This can later be evaluated using the python built in eval(string) function\n"
   ]
  },
  {
   "cell_type": "code",
   "execution_count": 10,
   "metadata": {},
   "outputs": [],
   "source": [
    "def expanded_dot(row_i, row_j):\n",
    "    row_i = np.matrix(row_i)\n",
    "    row_j = np.matrix(row_j)\n",
    "    \n",
    "    string_dot_product = \"(\" + str(row_i.item(0)) + \" * \" + str(row_j.item(0)) + \")\"\n",
    "    \n",
    "    for i in range(1, len(row_j.T), 1):\n",
    "        string_dot_product += \"+ (\" + str(row_i.item(i)) + \" * \" + str(row_j.item(i)) + \")\"\n",
    "\n",
    "    try:\n",
    "        return eval(string_dot_product)\n",
    "    except:\n",
    "        return string_dot_product"
   ]
  },
  {
   "cell_type": "markdown",
   "metadata": {},
   "source": [
    "# 2: Gauss Elimination\n",
    "\n",
    "Gauss elimination is important because it produces an upper triangular matrix.This  triangular  matrix  will  become  useful  for  LU  factorization  and  for  Back Substitution.\n",
    "\n",
    "__Upper Triangular Matrix:__ A matrix U of size m by n such that for each column_i, all elements between U[i+1][i] and U[m][i] (inclusive) are equal to 0\n"
   ]
  },
  {
   "cell_type": "code",
   "execution_count": 11,
   "metadata": {},
   "outputs": [],
   "source": [
    "def gauss_elimination(matrix):\n",
    "    matrix = matrix.astype(float)\n",
    "    U = copy.deepcopy(matrix)\n",
    "\n",
    "    for i in range(len(U.T)): # for each column\n",
    "        U = zeros_underneath(U, i, i) #make everything 0 underneath the diagonal\n",
    "\n",
    "    return U"
   ]
  },
  {
   "cell_type": "markdown",
   "metadata": {},
   "source": [
    "## 2.1 Making Zeros Under the Diagonal"
   ]
  },
  {
   "cell_type": "markdown",
   "metadata": {},
   "source": [
    "We just defined an upper triangular matrix. In this section we will explain how that is actually found. There are two functions for this to be done\n",
    "\n",
    "    1. We can use a row replacement\n",
    "    2. We can use a row swap \n",
    "    \n",
    "Each function only works under specific conditions. Hence, at every iteration we will check the conditions of our matrix to determine which function to use."
   ]
  },
  {
   "cell_type": "code",
   "execution_count": 12,
   "metadata": {},
   "outputs": [],
   "source": [
    "\"\"\"\n",
    "Creates a matrix such that all elements within the same column as a selected \n",
    "    index is zero\n",
    "\n",
    "Args:\n",
    "    matrix: numpy matrix of dimensions m rows by n columns\n",
    "    row_index: The row index of the selected element\n",
    "    col_index: The column index of the selected element.\n",
    "\n",
    "Returns:\n",
    "    A new array such that elements from matrix.getitem(row_index + 1, col_index) \n",
    "        to matrix.getitem(m, col_index) = 0\n",
    "\"\"\"\n",
    "def zeros_underneath(matrix, row_index, col_index):\n",
    "    matrix2 = copy.deepcopy(matrix)\n",
    "    row_j = row_index #use the row above\n",
    "    \n",
    "    for row_i in range(row_index + 1, len(matrix), 1): # for each row underneath row_i\n",
    "        if matrix2.item(row_j, col_index) == 0:\n",
    "            matrix2 = row_swap(matrix2, row_i, row_j)\n",
    "        else:\n",
    "            k = matrix.item(row_i, col_index) / matrix2.item(row_j, col_index)\n",
    "            matrix2 = row_replacement(matrix2, row_i, 1, row_j, k)\n",
    "    return matrix2"
   ]
  },
  {
   "cell_type": "markdown",
   "metadata": {},
   "source": [
    "### Example of Setting Zeros Underneath"
   ]
  },
  {
   "cell_type": "code",
   "execution_count": 13,
   "metadata": {},
   "outputs": [
    {
     "data": {
      "text/plain": [
       "matrix([[5],\n",
       "        [0],\n",
       "        [0]])"
      ]
     },
     "execution_count": 13,
     "metadata": {},
     "output_type": "execute_result"
    }
   ],
   "source": [
    "matrix = np.matrix([[5], \n",
    "                    [6], \n",
    "                    [7]])\n",
    "zeros_underneath(matrix, 0, 0)"
   ]
  },
  {
   "cell_type": "markdown",
   "metadata": {},
   "source": [
    "### Example of Upper Triangular Matrix\n",
    "This example was found on [YouTube](https://www.youtube.com/watch?v=f-zQJtkgcOE)"
   ]
  },
  {
   "cell_type": "code",
   "execution_count": 14,
   "metadata": {},
   "outputs": [
    {
     "data": {
      "text/plain": [
       "matrix([[  2.,   4.,  -2.],\n",
       "        [  0., -10.,  10.],\n",
       "        [  0.,   0.,  -8.]])"
      ]
     },
     "execution_count": 14,
     "metadata": {},
     "output_type": "execute_result"
    }
   ],
   "source": [
    "matrix = np.matrix([[2, 4, -2], \n",
    "                    [4, -2, 6], \n",
    "                    [6, -4, 2]])\n",
    "gauss_elimination(matrix)"
   ]
  },
  {
   "cell_type": "markdown",
   "metadata": {},
   "source": [
    "# 3 Back Substitution\n",
    "Recall that in Gauss elimination we produced a triangular matrix, U. In BackSubstitution we manipulate this triangular matrix to solve the the general equation Ux=b"
   ]
  },
  {
   "cell_type": "code",
   "execution_count": 15,
   "metadata": {},
   "outputs": [],
   "source": [
    "\"\"\"\n",
    "Solves a system of equations of the form Ux=b\n",
    "\n",
    "Args:\n",
    "    U: numpy matrix upper triangular matrix of dimensions m rows by n columns\n",
    "    b: numpy matrix of dimensions n rows by 1 column\n",
    "    \n",
    "Returns:\n",
    "    The x matrix such that Ux = b. If there are free variables it will be indicated by '?'\n",
    "\"\"\"\n",
    "#THIS ONE WORKS\n",
    "def back_substitution(U, b):\n",
    "    U = U.astype(float)\n",
    "    b = b.astype(float)\n",
    "    x = [0.0] * len(U)\n",
    "    is_free_variable_found = False\n",
    "    \n",
    "    for i in range(len(x) - 1, -1, -1): # substitute from the bottom of the matrix up\n",
    "        row = U[i].flatten()\n",
    "        constant = expanded_dot(row, x)\n",
    "        if (is_free_variable_found):\n",
    "            x[i] = \"( \" + str(b[i].item()) + \" - (\" + str(constant) + \") ) \" + \" / \" + str(row.item(i))\n",
    "        else:\n",
    "            if (row.item(i) == 0): #We might have found a free variable\n",
    "                if (reality_check(constant, b.item(i))): # reality check\n",
    "                    is_free_variable_found = True\n",
    "                    x[i] = \"?\"\n",
    "                else:\n",
    "                    return \"There is no solution\"\n",
    "            else:\n",
    "                x[i] = (b[i].item() - constant) / row.item(i) # Solve for the unknown\n",
    "        \n",
    "    if is_free_variable_found:\n",
    "        return (resolve_free_variables(x, 1.0), resolve_free_variables(x, -1.0))\n",
    "    return x"
   ]
  },
  {
   "cell_type": "code",
   "execution_count": 16,
   "metadata": {},
   "outputs": [],
   "source": [
    "def reality_check(x, y):\n",
    "    return x == y"
   ]
  },
  {
   "cell_type": "code",
   "execution_count": 17,
   "metadata": {},
   "outputs": [],
   "source": [
    "def resolve_free_variables(row, replace_with):\n",
    "    clone = copy.deepcopy(row)\n",
    "    \n",
    "    for i in range(len(clone)):\n",
    "        if isinstance(clone[i], str) :\n",
    "            clone[i] = eval(clone[i].replace(\"?\", \"(\" + str(replace_with) + \")\"))\n",
    "    return clone"
   ]
  },
  {
   "cell_type": "markdown",
   "metadata": {},
   "source": [
    "## 4 LU Factorization\n",
    "\n",
    "Recall that in arithmetic we learned to factor scalars such as 10 = 2 * 5.  Fur-thermore, in algebra we learned to factor polynomials such as\n",
    "x^2 + 2x - 3 = (x- 1) (x + 3).  The same holds for linear algebra.  In this section we will look athow to factor a square matrix A such that A = LU\n",
    "\n",
    "An lower triangular matrix can be found by keeping track of the k values used when finding an upper triangular matrix. "
   ]
  },
  {
   "cell_type": "code",
   "execution_count": 18,
   "metadata": {},
   "outputs": [],
   "source": [
    "\"\"\"\n",
    "Convert a matrix into it's upper triangular form\n",
    "\"\"\"\n",
    "def LU_factorization(matrix):\n",
    "    matrix = matrix.astype(float)\n",
    "    upper = copy.deepcopy(matrix)\n",
    "    lower = np.identity(len(matrix))\n",
    "    \n",
    "    for i in range(len(matrix.T)): # for each column\n",
    "        result = __upper_lower_column_helper(upper, i, i, lower) #Make the column of U and the column of L\n",
    "        upper = result[0]\n",
    "        lower = result[1]\n",
    "        \n",
    "    return lower, upper"
   ]
  },
  {
   "cell_type": "markdown",
   "metadata": {},
   "source": [
    "This function ____upper_lower_column_helper____ simply performs the upper triangular operatin while keeping track of these k values"
   ]
  },
  {
   "cell_type": "code",
   "execution_count": 27,
   "metadata": {},
   "outputs": [],
   "source": [
    "\"\"\"\n",
    "Finds the upper triangular matrix while \n",
    "also keeping track of the k values to use in the lower triangular matrix\n",
    "\"\"\"\n",
    "def __upper_lower_column_helper(matrix, row_index, col_index, lower):\n",
    "    matrix2 = copy.deepcopy(matrix)\n",
    "    row_j = row_index #use the row above\n",
    "    \n",
    "    k=0\n",
    "    for row_i in range(row_index + 1, len(matrix), 1): # for each row underneath row_i\n",
    "        if matrix2.item(row_j, col_index) == 0:\n",
    "            matrix2 = row_swap(matrix2, row_i, row_j)\n",
    "        else:\n",
    "            k = matrix.item(row_i, col_index) / matrix2.item(row_j, col_index)\n",
    "            matrix2 = row_replacement(matrix2, row_i, 1, row_j, k)\n",
    "        lower[row_i][col_index] = k\n",
    "            \n",
    "    return matrix2, lower"
   ]
  },
  {
   "cell_type": "markdown",
   "metadata": {},
   "source": [
    "# 5 Solving a System of Equations - Gauss Elimination with Back Substitution"
   ]
  },
  {
   "cell_type": "markdown",
   "metadata": {},
   "source": [
    "We already implemented Gauss elimination and back substitution in the earlier sections of this document. Now it will only take a few lines of code to solve Ax=b"
   ]
  },
  {
   "cell_type": "code",
   "execution_count": 20,
   "metadata": {},
   "outputs": [],
   "source": [
    "\"\"\"\n",
    "Solves the equation Ax = b\n",
    "\n",
    "Args:\n",
    "    A: numpy matrix of dimensions m rows by n columns\n",
    "    b: numpy matrix of dimensions n rows by 1 column\n",
    "    \n",
    "Returns:\n",
    "    The x matrix such that Ax = b\n",
    "\"\"\"\n",
    "def gauss_elimination_and_back_substitution(A, b):\n",
    "    # First, convert to floats. This helps avoid integer rounding\n",
    "    A = A.astype(float)\n",
    "    b = b.astype(float)\n",
    "    \n",
    "    augmented = np.hstack((A, b)) # Convert from A, b to [A|b]    \n",
    "    U = gauss_elimination(augmented)\n",
    "    U, b = np.hsplit(U, [np.size(U, 1) - 1]) # Convert from [U|b] to U, b\n",
    "    x = back_substitution(U, b)\n",
    "    \n",
    "    return x"
   ]
  },
  {
   "cell_type": "markdown",
   "metadata": {},
   "source": [
    "# 6. Examples of Gauss Elimination and Back Substitution"
   ]
  },
  {
   "cell_type": "code",
   "execution_count": 21,
   "metadata": {},
   "outputs": [],
   "source": [
    "def print_solution(A, b):\n",
    "    print(\"solution = \")\n",
    "    print(gauss_elimination_and_back_substitution(A, b))\n",
    "    print(\"\")\n",
    "    L, U = LU_factorization(A)\n",
    "    print(\"L = \")\n",
    "    print(L)\n",
    "\n",
    "    print(\"U = \")\n",
    "    print(U)"
   ]
  },
  {
   "cell_type": "code",
   "execution_count": 22,
   "metadata": {},
   "outputs": [
    {
     "name": "stdout",
     "output_type": "stream",
     "text": [
      "solution = \n",
      "[1.0, 2.0, 3.0]\n",
      "\n",
      "L = \n",
      "[[ 1.   0.   0. ]\n",
      " [ 1.5  1.   0. ]\n",
      " [ 1.  -4.   1. ]]\n",
      "U = \n",
      "[[ 2.   1.  -1. ]\n",
      " [ 0.   0.5  2.5]\n",
      " [ 0.   0.  13. ]]\n"
     ]
    }
   ],
   "source": [
    "A = np.matrix([[2, 1, -1], \n",
    "               [3, 2, 1], \n",
    "               [2, -1, 2]])\n",
    "b = np.matrix([[1], \n",
    "               [10], \n",
    "               [6]])\n",
    "\n",
    "# Solution is [1, 2, 3]\n",
    "print_solution(A, b)"
   ]
  },
  {
   "cell_type": "markdown",
   "metadata": {},
   "source": [
    "## a."
   ]
  },
  {
   "cell_type": "code",
   "execution_count": 23,
   "metadata": {},
   "outputs": [
    {
     "name": "stdout",
     "output_type": "stream",
     "text": [
      "solution = \n",
      "[-7.0, 3.0, 2.0, 2.0]\n",
      "\n",
      "L = \n",
      "[[ 1.  0.  0.  0.]\n",
      " [ 2.  1.  0.  0.]\n",
      " [ 1.  0.  1.  0.]\n",
      " [ 1.  0. -2.  1.]]\n",
      "U = \n",
      "[[ 1. -1.  2. -1.]\n",
      " [ 0.  2. -1.  1.]\n",
      " [ 0.  0. -1. -1.]\n",
      " [ 0.  0.  0.  2.]]\n"
     ]
    }
   ],
   "source": [
    "A = np.matrix([[1, -1, 2, -1], \n",
    "               [2, -2, 3, -3], \n",
    "               [1, 1, 1, 0],\n",
    "               [1, -1, 4, 3]])\n",
    "\n",
    "b = np.matrix([[-8], \n",
    "               [-20], \n",
    "               [-2],\n",
    "               [4]])\n",
    "\n",
    "# Solution is [-7, 3, 2, 2]\n",
    "print_solution(A, b)"
   ]
  },
  {
   "cell_type": "markdown",
   "metadata": {},
   "source": [
    "## b."
   ]
  },
  {
   "cell_type": "code",
   "execution_count": 24,
   "metadata": {},
   "outputs": [
    {
     "name": "stdout",
     "output_type": "stream",
     "text": [
      "solution = \n",
      "([1.0, 1.0, 2.0], [3.0, -1.0, 2.0])\n",
      "\n",
      "L = \n",
      "[[1. 0. 0.]\n",
      " [2. 1. 0.]\n",
      " [1. 0. 1.]]\n",
      "U = \n",
      "[[ 1.  1.  1.]\n",
      " [ 0.  0.  1.]\n",
      " [ 0.  0. -1.]]\n"
     ]
    }
   ],
   "source": [
    "A = np.matrix([[1, 1, 1], \n",
    "               [2, 2, 1], \n",
    "               [1, 1, 2]])\n",
    "\n",
    "b = np.matrix([[4], \n",
    "               [6], \n",
    "               [6]])\n",
    "\n",
    "print_solution(A, b)"
   ]
  },
  {
   "cell_type": "markdown",
   "metadata": {},
   "source": [
    "## c."
   ]
  },
  {
   "cell_type": "code",
   "execution_count": 25,
   "metadata": {},
   "outputs": [
    {
     "name": "stdout",
     "output_type": "stream",
     "text": [
      "solution = \n",
      "There is no solution\n",
      "\n",
      "L = \n",
      "[[1. 0. 0.]\n",
      " [2. 1. 0.]\n",
      " [1. 0. 1.]]\n",
      "U = \n",
      "[[ 1.  1.  1.]\n",
      " [ 0.  0.  1.]\n",
      " [ 0.  0. -1.]]\n"
     ]
    }
   ],
   "source": [
    "A = np.matrix([[1, 1, 1], \n",
    "               [2, 2, 1], \n",
    "               [1, 1, 2]])\n",
    "\n",
    "b = np.matrix([[4], \n",
    "               [4], \n",
    "               [6]])\n",
    "\n",
    "print_solution(A, b)"
   ]
  },
  {
   "cell_type": "code",
   "execution_count": 26,
   "metadata": {},
   "outputs": [
    {
     "name": "stdout",
     "output_type": "stream",
     "text": [
      "[[1. 0.]\n",
      " [3. 1.]]\n",
      "[[ 1.  2.]\n",
      " [ 0. -2.]]\n"
     ]
    }
   ],
   "source": [
    "A = np.matrix([[1, 2], \n",
    "               [3, 4]])\n",
    "L, U = LU_factorization(A)\n",
    "print(L)\n",
    "print(U)"
   ]
  },
  {
   "cell_type": "code",
   "execution_count": null,
   "metadata": {},
   "outputs": [],
   "source": []
  }
 ],
 "metadata": {
  "kernelspec": {
   "display_name": "Python 3",
   "language": "python",
   "name": "python3"
  },
  "language_info": {
   "codemirror_mode": {
    "name": "ipython",
    "version": 3
   },
   "file_extension": ".py",
   "mimetype": "text/x-python",
   "name": "python",
   "nbconvert_exporter": "python",
   "pygments_lexer": "ipython3",
   "version": "3.8.0"
  }
 },
 "nbformat": 4,
 "nbformat_minor": 2
}
