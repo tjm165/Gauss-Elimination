{
 "cells": [
  {
   "cell_type": "code",
   "execution_count": 3,
   "metadata": {},
   "outputs": [],
   "source": [
    "import numpy as np\n",
    "import copy "
   ]
  },
  {
   "cell_type": "markdown",
   "metadata": {},
   "source": [
    "# Introduction\n",
    "This Jupyter Notebook will provide a top down explanation of each function that I created in order to perform Guass elimination and back substitution. Please reference my paper for a bottom up approach to why this procedure works.\n",
    "\n",
    "Written by Tommy Moawad, tjm165"
   ]
  },
  {
   "cell_type": "markdown",
   "metadata": {},
   "source": [
    "# 1 Before we start. We need to define some fundemental functions"
   ]
  },
  {
   "cell_type": "markdown",
   "metadata": {},
   "source": [
    "## 1.1 Row Operations\n",
    "Row operations were one of the first things we learned in the class and is fundemental to this project.\n",
    "\n",
    "This function enables us to perform any operation of the form\n",
    "    r_i = c * r_i - k * r_j\n",
    "where c and k are constains\n",
    "\n",
    "For example, suppose we have\n",
    "\n",
    "[[1, 1, 1],\n",
    "\n",
    " [2, 2, 2],\n",
    " \n",
    " [3, 3, 3]]\n",
    " \n",
    "We can say r_1 = 100 * r_0 - 2 * r_1 such that we now have\n",
    "\n",
    "[96, 96, 96],\n",
    "\n",
    " [2, 2, 2],\n",
    " \n",
    " [3, 3, 3]"
   ]
  },
  {
   "cell_type": "code",
   "execution_count": 4,
   "metadata": {},
   "outputs": [],
   "source": [
    "\"\"\"\n",
    "General function to perform a row opperations of the form: r_i = c * r_i - k * r_j\n",
    "\n",
    "Args:\n",
    "    matrix: numpy matrix of dimensions m rows by n columns\n",
    "    c: The coefficient to multiply r_i by (optional by defualt is 1)\n",
    "    r_i: The index of the row we are applying the operation to\n",
    "    k: The coefficient to multiply r_j by (optional by defualt is 0)\n",
    "    r_j: The index of the row we are adding to r_i (optional by defualt is 0)\n",
    "    \n",
    "Returns:\n",
    "    The matrix with the applied row operation such that: r_i = c * r_i - k * r_j\n",
    "\"\"\"\n",
    "def row_operation(matrix, r_i, c = 1, r_j = 0, k = 0):\n",
    "    matrix2 = copy.deepcopy(matrix)\n",
    "    \n",
    "    matrix2[r_i] = c * matrix2[r_i] - k * matrix2[r_j]\n",
    "    return matrix2"
   ]
  },
  {
   "cell_type": "markdown",
   "metadata": {},
   "source": [
    "### Example of Row Operation"
   ]
  },
  {
   "cell_type": "code",
   "execution_count": 5,
   "metadata": {},
   "outputs": [
    {
     "data": {
      "text/plain": [
       "matrix([[96, 96, 96],\n",
       "        [ 2,  2,  2],\n",
       "        [ 3,  3,  3]])"
      ]
     },
     "execution_count": 5,
     "metadata": {},
     "output_type": "execute_result"
    }
   ],
   "source": [
    "matrix = np.matrix([[1, 1, 1], \n",
    "                    [2, 2, 2], \n",
    "                    [3, 3, 3]])\n",
    "\n",
    "row_operation(matrix, 0, 100, 1, 2)"
   ]
  },
  {
   "cell_type": "markdown",
   "metadata": {},
   "source": [
    "## 1.2 Row Swap\n",
    "Another basic operation we learned is row swapping. This is just as essential to Guass Elimination as Row Operation is. "
   ]
  },
  {
   "cell_type": "code",
   "execution_count": 6,
   "metadata": {},
   "outputs": [],
   "source": [
    "\"\"\"\n",
    "General function to perform a row swaps\n",
    "\n",
    "Args:\n",
    "    matrix: numpy matrix of dimensions m rows by n columns\n",
    "    r_i: The index of the row to swap with r_j\n",
    "    r_j: The index of the row to swap with r_i\n",
    "    \n",
    "Returns:\n",
    "    The matrix with the corresponding row swap\n",
    "\"\"\"\n",
    "def row_swap(matrix, r_i, r_j):\n",
    "    matrix2 = copy.deepcopy(matrix)\n",
    "    matrix2[[r_i, r_j]] = matrix[[r_j, r_i]]\n",
    "    return matrix2"
   ]
  },
  {
   "cell_type": "markdown",
   "metadata": {},
   "source": [
    "### Example Row Swap"
   ]
  },
  {
   "cell_type": "code",
   "execution_count": 7,
   "metadata": {},
   "outputs": [
    {
     "data": {
      "text/plain": [
       "array([[9, 9, 3],\n",
       "       [5, 7, 0],\n",
       "       [4, 3, 1]])"
      ]
     },
     "execution_count": 7,
     "metadata": {},
     "output_type": "execute_result"
    }
   ],
   "source": [
    "matrix = np.array([[4,3,1], \n",
    "                   [5,7,0], \n",
    "                   [9,9,3]])\n",
    "row_swap(matrix, 0, 2)"
   ]
  },
  {
   "cell_type": "markdown",
   "metadata": {},
   "source": [
    "## 1.3 Get Smaller Dimension\n",
    "Another basic function we need is a way to get the smaller dimension. This is just an if-else statement but it will be useful later on.\n",
    "\n",
    "Given a matrix with dimensions m by n, if m is smaller then return m, else return n"
   ]
  },
  {
   "cell_type": "code",
   "execution_count": 8,
   "metadata": {},
   "outputs": [],
   "source": [
    "\"\"\"\n",
    "Obtain the smaller dimension of the matrix. Either \n",
    "\n",
    "Args:\n",
    "    matrix: numpy matrix of dimensions m rows by n columns\n",
    "    \n",
    "Returns:\n",
    "    The smaller dimension of the matrix\n",
    "\"\"\"\n",
    "def get_smaller_dimension(matrix):\n",
    "    if len(matrix) < len(matrix.T):\n",
    "        return len(matrix)\n",
    "    else:\n",
    "        return len(matrix.T)"
   ]
  },
  {
   "cell_type": "markdown",
   "metadata": {},
   "source": [
    "### Examples of Getting the Smaller Dimension"
   ]
  },
  {
   "cell_type": "code",
   "execution_count": 9,
   "metadata": {},
   "outputs": [
    {
     "data": {
      "text/plain": [
       "2"
      ]
     },
     "execution_count": 9,
     "metadata": {},
     "output_type": "execute_result"
    }
   ],
   "source": [
    "# 2 by 3 matrix. m is smaller\n",
    "matrix = np.matrix([[1, 1, 1], [2, 2, 2]])\n",
    "get_smaller_dimension(matrix)"
   ]
  },
  {
   "cell_type": "code",
   "execution_count": 10,
   "metadata": {},
   "outputs": [
    {
     "data": {
      "text/plain": [
       "3"
      ]
     },
     "execution_count": 10,
     "metadata": {},
     "output_type": "execute_result"
    }
   ],
   "source": [
    "# 4 by 3 matrix. n is smaller\n",
    "matrix = np.matrix([[1, 1, 1], \n",
    "                    [2, 2, 2], \n",
    "                    [3, 3, 3], \n",
    "                    [4, 4, 4]])\n",
    "get_smaller_dimension(matrix)"
   ]
  },
  {
   "cell_type": "markdown",
   "metadata": {},
   "source": [
    "# 2: Guass Elimination and Back Substitution"
   ]
  },
  {
   "cell_type": "markdown",
   "metadata": {},
   "source": [
    "There are four parts to Guass Elimination and Back Substitution:\n",
    "        1. Converted every element to floats. This was simply to avoid technical issues with integer rounding.\n",
    "        2. Augment A and b into [A|b]\n",
    "        3. Convert our augmented matrix into row echelon form. This provides us with an upper triangular matrix\n",
    "        4. Now that we have an upper triangular matrix, we can easily perform back substitution.\n",
    "        \n",
    "After following these steps we can have the following function (although we still need to implement some of them!)"
   ]
  },
  {
   "cell_type": "code",
   "execution_count": 11,
   "metadata": {},
   "outputs": [],
   "source": [
    "\"\"\"\n",
    "Solves the equation Ax = b\n",
    "\n",
    "Args:\n",
    "    A: numpy matrix of dimensions m rows by n columns\n",
    "    b: numpy matrix of dimensions n rows by 1 column\n",
    "    \n",
    "Returns:\n",
    "    The x matrix such that Ax = b\n",
    "\"\"\"\n",
    "def guass_elimination_and_back_substitution(A, b):\n",
    "    # First, convert to floats. This helps avoid integer rounding\n",
    "    A = A.astype(float)\n",
    "    b = b.astype(float)\n",
    "    \n",
    "    augmented = np.hstack((A, b)) # Convert from A, b to [A|b]    \n",
    "    U = ref(augmented)\n",
    "    U, b = np.hsplit(U, [np.size(U, 1) - 1]) # Convert from [U|b] to U, b\n",
    "    x = back_substitution(U, b)\n",
    "    \n",
    "    return x"
   ]
  },
  {
   "cell_type": "markdown",
   "metadata": {},
   "source": [
    "Examples of Guass Elimination and Back Substitution will be provided after walking through all the necessary functions"
   ]
  },
  {
   "cell_type": "markdown",
   "metadata": {},
   "source": [
    "# 3: Row Echelon Form\n",
    "\n",
    "The main reason we use row echelon form is because it gives us an upper triangular matrix. This upper triangular matrix makes our life so much easier when performing back substitution. \n",
    "\n",
    "There are three steps to row echelon form:\n",
    "    1. clone a copy of our original matrix. This helps us avoid any technical issues when if we decide to use this matrix elsewhere throughout the project\n",
    "    2. Convert the matrix into upper triangular form\n",
    "    3. Make all the diagonals equal to 1\n",
    "    \n",
    "After following these steps we can have the following function (although we still need to implement some of them!)"
   ]
  },
  {
   "cell_type": "code",
   "execution_count": 12,
   "metadata": {},
   "outputs": [],
   "source": [
    "\"\"\"\n",
    "Find the row echelon form of the given matrix\n",
    "\"\"\"\n",
    "def ref(matrix):\n",
    "    clone = copy.deepcopy(matrix)\n",
    "    U = upper_triangular(clone)\n",
    "    #return make_diagonals_1(U)\n",
    "    return U"
   ]
  },
  {
   "cell_type": "markdown",
   "metadata": {},
   "source": [
    "## 3.1 Upper Triangular Matrix\n",
    "\n",
    "An upper triangular matrix is a matrix such that all elements below the diagonal are 0. This may seem intimidating but don't worry! Just take it column by column. For any column, we need a function that will make all elements zero underneath a specied element."
   ]
  },
  {
   "cell_type": "code",
   "execution_count": 13,
   "metadata": {},
   "outputs": [],
   "source": [
    "\"\"\"\n",
    "Convert a matrix into it's upper triangular form\n",
    "\"\"\"\n",
    "def upper_triangular(matrix):\n",
    "    matrix2 = copy.deepcopy(matrix)\n",
    "    \n",
    "    for i in range(len(matrix.T)): # for each column\n",
    "        matrix2 = zeros_underneath(matrix2, i, i) #make everything 0 underneath the diagonal\n",
    "    return matrix2"
   ]
  },
  {
   "cell_type": "markdown",
   "metadata": {},
   "source": [
    "## 3.2 Making Zeros Under the Diagonal"
   ]
  },
  {
   "cell_type": "markdown",
   "metadata": {},
   "source": [
    "In 3.1 we said that we need to make all the elements underneath the diagonal to be 0. In this section we will explain how that is actually done. There are two functions for this to be done\n",
    "\n",
    "    1. We can use a row operation\n",
    "    2. We can use a row swap \n",
    "    \n",
    "Each function only works under specific conditions. Hence, at every iteration we will check the conditions of our matrix to determine which function to use."
   ]
  },
  {
   "cell_type": "code",
   "execution_count": 58,
   "metadata": {},
   "outputs": [],
   "source": [
    "\"\"\"\n",
    "Creates a matrix such that all elements within the same column as a selected index is zero\n",
    "\n",
    "Args:\n",
    "    matrix: numpy matrix of dimensions m rows by n columns\n",
    "    row_index: The row index of the selected element\n",
    "    col_index: The column index of the selected element.\n",
    "\n",
    "Returns:\n",
    "    A new array such that elements from matrix.getitem(row_index + 1, col_index) to matrix.getitem(m, col_index) = 0\n",
    "\"\"\"\n",
    "def zeros_underneath(matrix, row_index, col_index):\n",
    "    matrix2 = copy.deepcopy(matrix)\n",
    "    row_j = row_index #use the row above\n",
    "    \n",
    "    for row_i in range(row_index + 1, len(matrix), 1): # for each row underneath row_i\n",
    "        if matrix2.item(row_j, col_index) == 0:\n",
    "            matrix2 = row_swap(matrix2, row_i, row_j)\n",
    "        else:\n",
    "            k = matrix.item(row_i, col_index) / matrix2.item(row_j, col_index)\n",
    "            matrix2 = row_operation(matrix2, row_i, 1, row_j, k)\n",
    "    return matrix2"
   ]
  },
  {
   "cell_type": "markdown",
   "metadata": {},
   "source": [
    "### Example of Setting Zeros Underneath"
   ]
  },
  {
   "cell_type": "code",
   "execution_count": 15,
   "metadata": {},
   "outputs": [
    {
     "name": "stdout",
     "output_type": "stream",
     "text": [
      "[[5]\n",
      " [6]\n",
      " [7]]\n",
      "\n"
     ]
    },
    {
     "data": {
      "text/plain": [
       "matrix([[5],\n",
       "        [0],\n",
       "        [0]])"
      ]
     },
     "execution_count": 15,
     "metadata": {},
     "output_type": "execute_result"
    }
   ],
   "source": [
    "matrix = np.matrix([[5], \n",
    "                    [6], \n",
    "                    [7]])\n",
    "zeros_underneath(matrix, 0, 0)"
   ]
  },
  {
   "cell_type": "markdown",
   "metadata": {},
   "source": [
    "### Example of Upper Triangular Matrix\n",
    "This example was found on [YouTube](https://www.youtube.com/watch?v=f-zQJtkgcOE)"
   ]
  },
  {
   "cell_type": "code",
   "execution_count": 16,
   "metadata": {},
   "outputs": [
    {
     "name": "stdout",
     "output_type": "stream",
     "text": [
      "[[ 2  4 -2]\n",
      " [ 4 -2  6]\n",
      " [ 6 -4  2]]\n",
      "\n",
      "[[  2   4  -2]\n",
      " [  0 -10  10]\n",
      " [  0 -16   8]]\n",
      "\n",
      "[[  2   4  -2]\n",
      " [  0 -10  10]\n",
      " [  0   0  -8]]\n",
      "\n"
     ]
    },
    {
     "data": {
      "text/plain": [
       "matrix([[  2,   4,  -2],\n",
       "        [  0, -10,  10],\n",
       "        [  0,   0,  -8]])"
      ]
     },
     "execution_count": 16,
     "metadata": {},
     "output_type": "execute_result"
    }
   ],
   "source": [
    "matrix = np.matrix([[2, 4, -2], \n",
    "                    [4, -2, 6], \n",
    "                    [6, -4, 2]])\n",
    "upper_triangular(matrix)"
   ]
  },
  {
   "cell_type": "markdown",
   "metadata": {},
   "source": [
    "## 3.3 Make Diagonals 1\n",
    "The final step to reduced row echelon form is to make the diagonals equal to 1. Recall that up till now, we only have an upper triangular matrix. This is not necessary."
   ]
  },
  {
   "cell_type": "code",
   "execution_count": 17,
   "metadata": {},
   "outputs": [],
   "source": [
    "\"\"\"\n",
    "Obtain an upper triangular matrix such that the diagonals are all 1\n",
    "\n",
    "Args:\n",
    "    U: numpy matrix upper triangular matrix\n",
    "    \n",
    "Returns:\n",
    "     An upper triangular matrix such that the diagonals are all 1\n",
    "\"\"\"\n",
    "def make_diagonals_1(U):\n",
    "    U = copy.deepcopy(U)\n",
    "    \n",
    "    for i in range(get_smaller_dimension(U)):\n",
    "        coef = 1 / U.item(i, i)\n",
    "        #U[i] = U[i] * coef\n",
    "        U = row_operation(U, i, coef, 0, 0)\n",
    "    return U"
   ]
  },
  {
   "cell_type": "markdown",
   "metadata": {},
   "source": [
    "# 4 Back Substitution\n",
    "In class, back substitution was always my favorite part. I knew that if I got to this point that I would be able to solve the problem. The basics of back substitution is to \n",
    "    1. Start from the bottom of the matrix and work your way up\n",
    "    2. Within each iteration you are solving one dot product with one unknown.\n",
    "    3. Hence, the dot product can be expressed as...\n",
    "        row_i • x_i = b_i\n",
    "    4. We can then expand the dot product to...\n",
    "        k * x_i + c = b_i\n",
    "            where k is the element of row_i that gets dotted with x_i\n",
    "            and c is the product of all the sums in the dot\n",
    "    5. Hence with one equation and one unknown we can rearrange to solve for the unknown\n",
    "        x_i = (b_i - c) / row_i"
   ]
  },
  {
   "cell_type": "code",
   "execution_count": 78,
   "metadata": {},
   "outputs": [],
   "source": [
    "\"\"\"\n",
    "Solves a system of equations of the form Ux=b\n",
    "\n",
    "Args:\n",
    "    U: numpy matrix upper triangular matrix of dimensions m rows by n columns\n",
    "    b: numpy matrix of dimensions n rows by 1 column\n",
    "    \n",
    "Returns:\n",
    "    The x matrix such that Ux = b\n",
    "\"\"\"\n",
    "def back_substitution(U, b):\n",
    "    x = [0] * len(U)\n",
    "    is_free_variable_found = False\n",
    "    \n",
    "    for i in range(len(x) - 1, -1, -1): # substitute from the bottom of the matrix up\n",
    "        row = U[i].flatten()\n",
    "        constant = 0\n",
    "        for j in range(len(x)): # perform the dot products with constants\n",
    "            if (is_free_variable_found):\n",
    "                constant = \"(\" + str(constant) + \" + \" + str(row.item(j)) + \" * \" + str(x[j]) + \")\"\n",
    "                print(constant)\n",
    "            else:\n",
    "                constant = constant + row.item(j) * x[j]\n",
    "                print(\"(\" + str(constant) + \" + \" + str(row.item(j)) + \" * \" + str(x[j]) + \") = \" + str(constant))\n",
    "        if (not is_free_variable_found):\n",
    "            if (row.item(i) == 0): #there is a free variable. This dot product is the constant\n",
    "                if (constant == b.item(i)):\n",
    "                    is_free_variable_found = True\n",
    "                    x[i] = \"?\"\n",
    "                else:\n",
    "                    return \"There is no solution\"\n",
    "            else:\n",
    "                x[i] = (b[i] - constant) / row.item(i) # Solve for the unknown\n",
    "        else:\n",
    "            x[i] = constant\n",
    "        \n",
    "    return x"
   ]
  },
  {
   "cell_type": "markdown",
   "metadata": {},
   "source": [
    "## Example of Back Substitution"
   ]
  },
  {
   "cell_type": "code",
   "execution_count": null,
   "metadata": {},
   "outputs": [],
   "source": []
  },
  {
   "cell_type": "markdown",
   "metadata": {},
   "source": [
    "# Examples of Guass Elimination and Back Substitution"
   ]
  },
  {
   "cell_type": "code",
   "execution_count": 77,
   "metadata": {},
   "outputs": [
    {
     "name": "stdout",
     "output_type": "stream",
     "text": [
      "0.0\n",
      "0.0\n",
      "0.0\n",
      "0.0\n",
      "0.0\n",
      "[[7.5]]\n",
      "0.0\n",
      "[[2.]]\n",
      "[[-1.]]\n"
     ]
    },
    {
     "data": {
      "text/plain": [
       "[matrix([[1.]]), matrix([[2.]]), matrix([[3.]])]"
      ]
     },
     "execution_count": 77,
     "metadata": {},
     "output_type": "execute_result"
    }
   ],
   "source": [
    "A = np.matrix([[2, 1, -1], \n",
    "               [3, 2, 1], \n",
    "               [2, -1, 2]])\n",
    "b = np.matrix([[1], \n",
    "               [10], \n",
    "               [6]])\n",
    "\n",
    "# Solution is [1, 2, 3]\n",
    "\n",
    "guass_elimination_and_back_substitution(A, b)"
   ]
  },
  {
   "cell_type": "markdown",
   "metadata": {},
   "source": [
    "## a."
   ]
  },
  {
   "cell_type": "code",
   "execution_count": 79,
   "metadata": {},
   "outputs": [
    {
     "name": "stdout",
     "output_type": "stream",
     "text": [
      "(0.0 + 0.0 * 0) = 0.0\n",
      "(0.0 + 0.0 * 0) = 0.0\n",
      "(0.0 + 0.0 * 0) = 0.0\n",
      "(0.0 + 2.0 * 0) = 0.0\n",
      "(0.0 + 0.0 * 0) = 0.0\n",
      "(0.0 + 0.0 * 0) = 0.0\n",
      "(0.0 + -1.0 * 0) = 0.0\n",
      "([[-2.]] + -1.0 * [[2.]]) = [[-2.]]\n",
      "(0.0 + 0.0 * 0) = 0.0\n",
      "(0.0 + 2.0 * 0) = 0.0\n",
      "([[-2.]] + -1.0 * [[2.]]) = [[-2.]]\n",
      "([[0.]] + 1.0 * [[2.]]) = [[0.]]\n",
      "(0.0 + 1.0 * 0) = 0.0\n",
      "([[-3.]] + -1.0 * [[3.]]) = [[-3.]]\n",
      "([[1.]] + 2.0 * [[2.]]) = [[1.]]\n",
      "([[-1.]] + -1.0 * [[2.]]) = [[-1.]]\n"
     ]
    },
    {
     "data": {
      "text/plain": [
       "[matrix([[-7.]]), matrix([[3.]]), matrix([[2.]]), matrix([[2.]])]"
      ]
     },
     "execution_count": 79,
     "metadata": {},
     "output_type": "execute_result"
    }
   ],
   "source": [
    "A = np.matrix([[1, -1, 2, -1], \n",
    "               [2, -2, 3, -3], \n",
    "               [1, 1, 1, 0],\n",
    "               [1, -1, 4, 3]])\n",
    "\n",
    "b = np.matrix([[-8], \n",
    "               [-20], \n",
    "               [-2],\n",
    "               [4]])\n",
    "\n",
    "# Solution is [-7, 3, 2, 2]\n",
    "\n",
    "guass_elimination_and_back_substitution(A, b)"
   ]
  },
  {
   "cell_type": "markdown",
   "metadata": {},
   "source": [
    "## b."
   ]
  },
  {
   "cell_type": "code",
   "execution_count": 69,
   "metadata": {},
   "outputs": [
    {
     "name": "stdout",
     "output_type": "stream",
     "text": [
      "(0 + 1.0 * 0)\n",
      "((0 + 1.0 * 0) + 1.0 * ?)\n",
      "(((0 + 1.0 * 0) + 1.0 * ?) + 1.0 * [[2.]])\n"
     ]
    },
    {
     "data": {
      "text/plain": [
       "['(((0 + 1.0 * 0) + 1.0 * ?) + 1.0 * [[2.]])', '?', matrix([[2.]])]"
      ]
     },
     "execution_count": 69,
     "metadata": {},
     "output_type": "execute_result"
    }
   ],
   "source": [
    "A = np.matrix([[1, 1, 1], \n",
    "               [2, 2, 1], \n",
    "               [1, 1, 2]])\n",
    "\n",
    "b = np.matrix([[4], \n",
    "               [6], \n",
    "               [6]])\n",
    "\n",
    "guass_elimination_and_back_substitution(A, b)"
   ]
  },
  {
   "cell_type": "markdown",
   "metadata": {},
   "source": [
    "## c."
   ]
  },
  {
   "cell_type": "code",
   "execution_count": 70,
   "metadata": {},
   "outputs": [
    {
     "data": {
      "text/plain": [
       "'There is no solution'"
      ]
     },
     "execution_count": 70,
     "metadata": {},
     "output_type": "execute_result"
    }
   ],
   "source": [
    "A = np.matrix([[1, 1, 1], \n",
    "               [2, 2, 1], \n",
    "               [1, 1, 2]])\n",
    "\n",
    "b = np.matrix([[4], \n",
    "               [4], \n",
    "               [6]])\n",
    "\n",
    "guass_elimination_and_back_substitution(A, b)"
   ]
  },
  {
   "cell_type": "code",
   "execution_count": 74,
   "metadata": {},
   "outputs": [
    {
     "data": {
      "text/plain": [
       "'(((0 + 1.0 * 0) + 1.0 * (-1)) + 1.0 * [[2.]])'"
      ]
     },
     "execution_count": 74,
     "metadata": {},
     "output_type": "execute_result"
    }
   ],
   "source": [
    "'(((0 + 1.0 * 0) + 1.0 * ?) + 1.0 * [[2.]])'.replace('?', '(-1)')"
   ]
  },
  {
   "cell_type": "code",
   "execution_count": 75,
   "metadata": {},
   "outputs": [
    {
     "data": {
      "text/plain": [
       "1.0"
      ]
     },
     "execution_count": 75,
     "metadata": {},
     "output_type": "execute_result"
    }
   ],
   "source": [
    "eval('(((0 + 1.0 * 0) + (-1) * (1)) + 1.0 * 2.)')"
   ]
  },
  {
   "cell_type": "code",
   "execution_count": null,
   "metadata": {},
   "outputs": [],
   "source": []
  }
 ],
 "metadata": {
  "kernelspec": {
   "display_name": "Python 3",
   "language": "python",
   "name": "python3"
  },
  "language_info": {
   "codemirror_mode": {
    "name": "ipython",
    "version": 3
   },
   "file_extension": ".py",
   "mimetype": "text/x-python",
   "name": "python",
   "nbconvert_exporter": "python",
   "pygments_lexer": "ipython3",
   "version": "3.8.0"
  }
 },
 "nbformat": 4,
 "nbformat_minor": 2
}
